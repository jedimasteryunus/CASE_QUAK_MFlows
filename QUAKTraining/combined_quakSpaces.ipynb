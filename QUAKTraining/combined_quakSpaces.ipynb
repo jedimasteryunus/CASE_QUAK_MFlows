{
 "cells": [
  {
   "cell_type": "code",
   "execution_count": 1,
   "metadata": {},
   "outputs": [
    {
     "name": "stderr",
     "output_type": "stream",
     "text": [
      "/nobackup/users/sambt/anaconda3/envs/quak/lib/python3.7/site-packages/tqdm/auto.py:22: TqdmWarning: IProgress not found. Please update jupyter and ipywidgets. See https://ipywidgets.readthedocs.io/en/stable/user_install.html\n",
      "  from .autonotebook import tqdm as notebook_tqdm\n"
     ]
    },
    {
     "name": "stdout",
     "output_type": "stream",
     "text": [
      "Number of available CPUs: 80\n",
      "Device = cuda:0\n",
      "Number of threads: 80\n",
      "Number of interop threads: 80\n"
     ]
    }
   ],
   "source": [
    "%load_ext autoreload\n",
    "%autoreload 2\n",
    "\n",
    "import helper_functions as hf\n",
    "from imports import *\n",
    "import importlib\n",
    "\n",
    "num_available_cpus = multiprocessing.cpu_count()\n",
    "print(\"Number of available CPUs:\", num_available_cpus)\n",
    "\n",
    "torch.cuda.empty_cache()\n",
    "device = torch.device(\"cuda:0\" if torch.cuda.is_available() else \"cpu\")\n",
    "print(\"Device =\", device)\n",
    "torch.set_default_tensor_type('torch.cuda.FloatTensor') if torch.cuda.is_available() else print ('cpu')\n",
    "\n",
    "torch.set_num_threads(num_available_cpus)\n",
    "\n",
    "print(\"Number of threads:\", torch.get_num_threads())\n",
    "print(\"Number of interop threads:\", torch.get_num_interop_threads())"
   ]
  },
  {
   "cell_type": "code",
   "execution_count": 11,
   "metadata": {},
   "outputs": [],
   "source": [
    "import re\n",
    "plt.rcParams['font.size'] = 14\n",
    "for d in os.listdir(\"test_data_forStats\"):\n",
    "    if \"sigTrain\" not in d:\n",
    "        continue\n",
    "    plt.figure(figsize=(10,10))\n",
    "    training = re.search(\"sigTrain(.*)_bkgTrain\",d).group(1)\n",
    "    plt.title(\"Training: \"+training)\n",
    "    bkg_files = [f for f in os.listdir(\"test_data_forStats/\"+d) if 'QCDBKG' in f]\n",
    "    bkg_siglosses = []\n",
    "    bkg_bkglosses = []\n",
    "    for bf in bkg_files:\n",
    "        arr = np.load(\"test_data_forStats/\"+d+\"/\"+bf)\n",
    "        bkg_siglosses.append(arr[1])\n",
    "        bkg_bkglosses.append(arr[2])\n",
    "        del arr\n",
    "    bkg_siglosses = np.concatenate(bkg_siglosses,axis=0)\n",
    "    bkg_bkglosses = np.concatenate(bkg_bkglosses,axis=0)\n",
    "    plt.scatter(bkg_bkglosses[:100000],bkg_siglosses[:100000],s=2,label=\"QCDBKG\")\n",
    "    \n",
    "    sig_files = [f for f in os.listdir(\"test_data_forStats/\"+d) if 'QCDBKG' not in f]\n",
    "    for sf in sig_files:\n",
    "        name = \"\".join(sf.split(\"_\")[1:]).split(\".\")[0]\n",
    "        arr = np.load(\"test_data_forStats/\"+d+\"/\"+sf)\n",
    "        plt.scatter(arr[2][:10000],arr[1][:10000],s=2,label=name)\n",
    "        del arr\n",
    "    plt.xlim([0,50])\n",
    "    plt.ylim([0,50])\n",
    "    plt.legend(loc='upper right')\n",
    "    plt.savefig(\"plots/QUAK_spaces/\"+d+\"/combined.png\")\n",
    "    plt.close()"
   ]
  },
  {
   "cell_type": "code",
   "execution_count": null,
   "metadata": {},
   "outputs": [],
   "source": []
  }
 ],
 "metadata": {
  "kernelspec": {
   "display_name": "quak",
   "language": "python",
   "name": "quak"
  },
  "language_info": {
   "codemirror_mode": {
    "name": "ipython",
    "version": 3
   },
   "file_extension": ".py",
   "mimetype": "text/x-python",
   "name": "python",
   "nbconvert_exporter": "python",
   "pygments_lexer": "ipython3",
   "version": "3.7.13"
  }
 },
 "nbformat": 4,
 "nbformat_minor": 4
}
