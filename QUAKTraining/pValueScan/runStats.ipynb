{
 "cells": [
  {
   "cell_type": "code",
   "execution_count": 1,
   "id": "5984fe39",
   "metadata": {},
   "outputs": [
    {
     "name": "stdout",
     "output_type": "stream",
     "text": [
      "Welcome to JupyROOT 6.22/08\n"
     ]
    }
   ],
   "source": [
    "%load_ext autoreload\n",
    "%autoreload 2\n",
    "import numpy as np\n",
    "import matplotlib.pyplot as plt\n",
    "\n",
    "import ROOT as r\n",
    "from array import array\n",
    "import significance_fit as sf\n",
    "import os"
   ]
  },
  {
   "cell_type": "code",
   "execution_count": 2,
   "id": "80f7308c",
   "metadata": {},
   "outputs": [],
   "source": [
    "files = os.listdir(\"root_files\")"
   ]
  },
  {
   "cell_type": "code",
   "execution_count": 3,
   "id": "dc3f653f",
   "metadata": {},
   "outputs": [],
   "source": [
    "test = \"root_files/\"+files[0]\n",
    "lTFile = r.TFile(test)\n",
    "lTTree = lTFile.Get(\"output\")"
   ]
  },
  {
   "cell_type": "code",
   "execution_count": 4,
   "id": "0335b292",
   "metadata": {},
   "outputs": [],
   "source": [
    "bkg_lim = 10\n",
    "sig_lim = 10\n",
    "label = \"L_{bkg} > %s   && L_{sig} < %s\" % (str(bkg_lim), str(sig_lim))\n",
    "cut = \"loss2 > %s   && loss1 < %s\" % (str(bkg_lim), str(sig_lim))"
   ]
  },
  {
   "cell_type": "code",
   "execution_count": 5,
   "id": "6ee99b1c",
   "metadata": {},
   "outputs": [],
   "source": [
    "pData1=sf.makeHist(label,cut,lTTree)"
   ]
  },
  {
   "cell_type": "code",
   "execution_count": null,
   "id": "5eb5b847",
   "metadata": {
    "scrolled": true
   },
   "outputs": [
    {
     "name": "stdout",
     "output_type": "stream",
     "text": [
      "1480.0 1480.0 ! Done\n",
      "1536.0 1536.0 ! Done\n",
      "1592.0 1592.0 ! Done\n",
      "1648.0 1648.0 ! Done\n",
      "1704.0 1704.0 ! Done\n",
      "1760.0 1760.0 ! Done\n",
      "1816.0 1816.0 ! Done\n",
      "1872.0 1872.0 ! Done\n",
      "1928.0 1928.0 ! Done\n",
      "1984.0 1984.0 ! Done\n",
      "2040.0 2040.0 ! Done\n",
      "2096.0 2096.0 ! Done\n",
      "2152.0 2152.0 ! Done\n",
      "2208.0 2208.0 ! Done\n",
      "2264.0 2264.0 ! Done\n",
      "2320.0 2320.0 ! Done\n",
      "2376.0 2376.0 ! Done\n",
      "2432.0 2432.0 ! Done\n",
      "2488.0 2488.0 ! Done\n",
      "2544.0 2544.0 ! Done\n",
      "2600.0 2600.0 ! Done\n",
      "2656.0 2656.0 ! Done\n",
      "2712.0 2712.0 ! Done\n",
      "2768.0 2768.0 ! Done\n",
      "2824.0 2824.0 ! Done\n",
      "2880.0 2880.0 ! Done\n",
      "2936.0 2936.0 ! Done\n",
      "2992.0 2992.0 ! Done\n",
      "3048.0 3048.0 ! Done\n",
      "3104.0 3104.0 ! Done\n",
      "3160.0 3160.0 ! Done\n",
      "3216.0 3216.0 ! Done\n",
      "3272.0 3272.0 ! Done\n",
      "3328.0 3328.0 ! Done\n",
      "3384.0 3384.0 ! Done\n",
      "3440.0 3440.0 ! Done\n",
      "3496.0 3496.0 ! Done\n",
      "3552.0 3552.0 ! Done\n",
      "3608.0 3608.0 ! Done\n",
      "3664.0 3664.0 ! Done\n",
      "3720.0 3720.0 ! Done\n",
      "3776.0 3776.0 ! Done\n",
      "3832.0 3832.0 ! Done\n",
      "3888.0 3888.0 ! Done\n"
     ]
    }
   ],
   "source": [
    "iBkgTemp=False\n",
    "masses1,pvalues1=sf.fitFunc(pData1,\"BB1\",1500,4500,2,iBkgTemp,outdir=\"test/\")"
   ]
  },
  {
   "cell_type": "code",
   "execution_count": null,
   "id": "f6da3a85",
   "metadata": {},
   "outputs": [],
   "source": []
  }
 ],
 "metadata": {
  "kernelspec": {
   "display_name": "Python 3",
   "language": "python",
   "name": "python3"
  },
  "language_info": {
   "codemirror_mode": {
    "name": "ipython",
    "version": 3
   },
   "file_extension": ".py",
   "mimetype": "text/x-python",
   "name": "python",
   "nbconvert_exporter": "python",
   "pygments_lexer": "ipython3",
   "version": "3.6.13"
  }
 },
 "nbformat": 4,
 "nbformat_minor": 5
}
